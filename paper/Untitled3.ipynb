{
 "cells": [
  {
   "cell_type": "markdown",
   "id": "766442d4",
   "metadata": {},
   "source": [
    "# case 1 simulated data"
   ]
  },
  {
   "cell_type": "markdown",
   "id": "a1d39ab5",
   "metadata": {},
   "source": [
    "## Description"
   ]
  },
  {
   "cell_type": "markdown",
   "id": "98163332",
   "metadata": {},
   "source": [
    "1. never treated units"
   ]
  },
  {
   "cell_type": "markdown",
   "id": "fb907e61",
   "metadata": {},
   "source": [
    "$$\n",
    "Y_{it}(0)=\\theta_{t}+\\eta_{i}+\\mathbf{X}_{i}^{T}\\mathbf{\\beta}_{t}+v_{it}\n",
    "$$"
   ]
  },
  {
   "cell_type": "markdown",
   "id": "0dd17685",
   "metadata": {},
   "source": [
    "2. treated units"
   ]
  },
  {
   "cell_type": "markdown",
   "id": "298e7702",
   "metadata": {},
   "source": [
    "$$\n",
    "Y_{it}(g)=Y_{it}(0)+1\\{t\\ge g\\}(e+1)+(u_{it}-v_{it})\n",
    "$$"
   ]
  },
  {
   "cell_type": "markdown",
   "id": "68451591",
   "metadata": {},
   "source": [
    "$e:=t-g$  the difference between the current time period and the time when a unit becomes treated, So the effect is:"
   ]
  },
  {
   "cell_type": "markdown",
   "id": "345ebd69",
   "metadata": {},
   "source": [
    "$$\n",
    "ATT(g,t)=e+1\\ (t\\ge g)\n",
    "$$"
   ]
  },
  {
   "cell_type": "code",
   "execution_count": 1,
   "id": "e080534c",
   "metadata": {},
   "outputs": [],
   "source": [
    "library(did)"
   ]
  },
  {
   "cell_type": "code",
   "execution_count": 3,
   "id": "1851fc74",
   "metadata": {},
   "outputs": [],
   "source": [
    "time.periods <- 4\n",
    "sp <- reset.sim()\n",
    "sp$te <- 0\n",
    "\n",
    "set.seed(1814)\n",
    "time.periods <- 4\n",
    "sp$te.e <- 1:time.periods\n",
    "dta <- build_sim_dataset(sp)"
   ]
  },
  {
   "cell_type": "code",
   "execution_count": 4,
   "id": "f232cf90",
   "metadata": {},
   "outputs": [
    {
     "data": {
      "text/html": [
       "<table class=\"dataframe\">\n",
       "<caption>A tibble: 6 × 7</caption>\n",
       "<thead>\n",
       "\t<tr><th scope=col>G</th><th scope=col>X</th><th scope=col>id</th><th scope=col>cluster</th><th scope=col>period</th><th scope=col>Y</th><th scope=col>treat</th></tr>\n",
       "\t<tr><th scope=col>&lt;dbl&gt;</th><th scope=col>&lt;dbl&gt;</th><th scope=col>&lt;int&gt;</th><th scope=col>&lt;int&gt;</th><th scope=col>&lt;dbl&gt;</th><th scope=col>&lt;dbl&gt;</th><th scope=col>&lt;dbl&gt;</th></tr>\n",
       "</thead>\n",
       "<tbody>\n",
       "\t<tr><td>3</td><td>-0.8762330</td><td>1</td><td> 5</td><td>1</td><td> 5.562556</td><td>1</td></tr>\n",
       "\t<tr><td>3</td><td>-0.8762330</td><td>1</td><td> 5</td><td>2</td><td> 4.349213</td><td>1</td></tr>\n",
       "\t<tr><td>3</td><td>-0.8762330</td><td>1</td><td> 5</td><td>3</td><td> 7.134037</td><td>1</td></tr>\n",
       "\t<tr><td>3</td><td>-0.8762330</td><td>1</td><td> 5</td><td>4</td><td> 6.243056</td><td>1</td></tr>\n",
       "\t<tr><td>2</td><td>-0.8738481</td><td>2</td><td>36</td><td>1</td><td>-3.659387</td><td>1</td></tr>\n",
       "\t<tr><td>2</td><td>-0.8738481</td><td>2</td><td>36</td><td>2</td><td>-1.274099</td><td>1</td></tr>\n",
       "</tbody>\n",
       "</table>\n"
      ],
      "text/latex": [
       "A tibble: 6 × 7\n",
       "\\begin{tabular}{lllllll}\n",
       " G & X & id & cluster & period & Y & treat\\\\\n",
       " <dbl> & <dbl> & <int> & <int> & <dbl> & <dbl> & <dbl>\\\\\n",
       "\\hline\n",
       "\t 3 & -0.8762330 & 1 &  5 & 1 &  5.562556 & 1\\\\\n",
       "\t 3 & -0.8762330 & 1 &  5 & 2 &  4.349213 & 1\\\\\n",
       "\t 3 & -0.8762330 & 1 &  5 & 3 &  7.134037 & 1\\\\\n",
       "\t 3 & -0.8762330 & 1 &  5 & 4 &  6.243056 & 1\\\\\n",
       "\t 2 & -0.8738481 & 2 & 36 & 1 & -3.659387 & 1\\\\\n",
       "\t 2 & -0.8738481 & 2 & 36 & 2 & -1.274099 & 1\\\\\n",
       "\\end{tabular}\n"
      ],
      "text/markdown": [
       "\n",
       "A tibble: 6 × 7\n",
       "\n",
       "| G &lt;dbl&gt; | X &lt;dbl&gt; | id &lt;int&gt; | cluster &lt;int&gt; | period &lt;dbl&gt; | Y &lt;dbl&gt; | treat &lt;dbl&gt; |\n",
       "|---|---|---|---|---|---|---|\n",
       "| 3 | -0.8762330 | 1 |  5 | 1 |  5.562556 | 1 |\n",
       "| 3 | -0.8762330 | 1 |  5 | 2 |  4.349213 | 1 |\n",
       "| 3 | -0.8762330 | 1 |  5 | 3 |  7.134037 | 1 |\n",
       "| 3 | -0.8762330 | 1 |  5 | 4 |  6.243056 | 1 |\n",
       "| 2 | -0.8738481 | 2 | 36 | 1 | -3.659387 | 1 |\n",
       "| 2 | -0.8738481 | 2 | 36 | 2 | -1.274099 | 1 |\n",
       "\n"
      ],
      "text/plain": [
       "  G X          id cluster period Y         treat\n",
       "1 3 -0.8762330 1   5      1       5.562556 1    \n",
       "2 3 -0.8762330 1   5      2       4.349213 1    \n",
       "3 3 -0.8762330 1   5      3       7.134037 1    \n",
       "4 3 -0.8762330 1   5      4       6.243056 1    \n",
       "5 2 -0.8738481 2  36      1      -3.659387 1    \n",
       "6 2 -0.8738481 2  36      2      -1.274099 1    "
      ]
     },
     "metadata": {},
     "output_type": "display_data"
    }
   ],
   "source": [
    "head(dta)"
   ]
  },
  {
   "cell_type": "code",
   "execution_count": 5,
   "id": "01d7d77a",
   "metadata": {},
   "outputs": [],
   "source": [
    "example_attgt <- att_gt(yname = \"Y\",\n",
    "                        tname = \"period\",\n",
    "                        idname = \"id\",\n",
    "                        gname = \"G\",\n",
    "                        xformla = ~X,\n",
    "                        data = dta\n",
    "                        )"
   ]
  },
  {
   "cell_type": "code",
   "execution_count": 6,
   "id": "7dec9efc",
   "metadata": {},
   "outputs": [
    {
     "name": "stdout",
     "output_type": "stream",
     "text": [
      "\n",
      "Call:\n",
      "att_gt(yname = \"Y\", tname = \"period\", idname = \"id\", gname = \"G\", \n",
      "    xformla = ~X, data = dta)\n",
      "\n",
      "Reference: Callaway, Brantly and Pedro H.C. Sant'Anna.  \"Difference-in-Differences with Multiple Time Periods.\" Journal of Econometrics, Vol. 225, No. 2, pp. 200-230, 2021. <https://doi.org/10.1016/j.jeconom.2020.12.001>, <https://arxiv.org/abs/1803.09015> \n",
      "\n",
      "Group-Time Average Treatment Effects:\n",
      " Group Time ATT(g,t) Std. Error [95% Simult.  Conf. Band]  \n",
      "     2    2   0.9209     0.0618        0.7523      1.0896 *\n",
      "     2    3   1.9875     0.0676        1.8029      2.1720 *\n",
      "     2    4   2.9552     0.0626        2.7845      3.1259 *\n",
      "     3    2  -0.0433     0.0634       -0.2163      0.1297  \n",
      "     3    3   1.1080     0.0675        0.9239      1.2922 *\n",
      "     3    4   2.0590     0.0649        1.8820      2.2360 *\n",
      "     4    2   0.0023     0.0643       -0.1732      0.1779  \n",
      "     4    3   0.0615     0.0651       -0.1162      0.2393  \n",
      "     4    4   0.9523     0.0696        0.7624      1.1423 *\n",
      "---\n",
      "Signif. codes: `*' confidence band does not cover 0\n",
      "\n",
      "P-value for pre-test of parallel trends assumption:  0.60857\n",
      "Control Group:  Never Treated,  Anticipation Periods:  0\n",
      "Estimation Method:  Doubly Robust\n"
     ]
    }
   ],
   "source": [
    "summary(example_attgt)"
   ]
  },
  {
   "cell_type": "code",
   "execution_count": 7,
   "id": "e9e81edd",
   "metadata": {},
   "outputs": [],
   "source": [
    "library(ggplot2)"
   ]
  },
  {
   "cell_type": "code",
   "execution_count": 8,
   "id": "abf5c457",
   "metadata": {},
   "outputs": [
    {
     "data": {
      "image/png": "[encoded data removed]",
      "text/plain": [
       "plot without title"
      ]
     },
     "metadata": {
      "image/png": {
       "height": 420,
       "width": 420
      }
     },
     "output_type": "display_data"
    }
   ],
   "source": [
    "ggdid(example_attgt)"
   ]
  },
  {
   "cell_type": "code",
   "execution_count": 9,
   "id": "ce85c982",
   "metadata": {},
   "outputs": [
    {
     "name": "stdout",
     "output_type": "stream",
     "text": [
      "\n",
      "Call:\n",
      "aggte(MP = example_attgt, type = \"simple\")\n",
      "\n",
      "Reference: Callaway, Brantly and Pedro H.C. Sant'Anna.  \"Difference-in-Differences with Multiple Time Periods.\" Journal of Econometrics, Vol. 225, No. 2, pp. 200-230, 2021. <https://doi.org/10.1016/j.jeconom.2020.12.001>, <https://arxiv.org/abs/1803.09015> \n",
      "\n",
      "\n",
      "    ATT    Std. Error     [ 95%  Conf. Int.]  \n",
      " 1.6583        0.0364     1.5869      1.7297 *\n",
      "\n",
      "\n",
      "---\n",
      "Signif. codes: `*' confidence band does not cover 0\n",
      "\n",
      "Control Group:  Never Treated,  Anticipation Periods:  0\n",
      "Estimation Method:  Doubly Robust\n"
     ]
    }
   ],
   "source": [
    "agg.simple <- aggte(example_attgt, type = \"simple\")\n",
    "summary(agg.simple)"
   ]
  },
  {
   "cell_type": "code",
   "execution_count": 10,
   "id": "88d9a21d",
   "metadata": {},
   "outputs": [
    {
     "name": "stdout",
     "output_type": "stream",
     "text": [
      "\n",
      "Call:\n",
      "aggte(MP = example_attgt, type = \"dynamic\")\n",
      "\n",
      "Reference: Callaway, Brantly and Pedro H.C. Sant'Anna.  \"Difference-in-Differences with Multiple Time Periods.\" Journal of Econometrics, Vol. 225, No. 2, pp. 200-230, 2021. <https://doi.org/10.1016/j.jeconom.2020.12.001>, <https://arxiv.org/abs/1803.09015> \n",
      "\n",
      "\n",
      "Overall summary of ATT's based on event-study/dynamic aggregation:  \n",
      "    ATT    Std. Error     [ 95%  Conf. Int.]  \n",
      " 1.9904        0.0377     1.9165      2.0644 *\n",
      "\n",
      "\n",
      "Dynamic Effects:\n",
      " Event time Estimate Std. Error [95% Simult.  Conf. Band]  \n",
      "         -2   0.0023     0.0672       -0.1784      0.1830  \n",
      "         -1   0.0105     0.0402       -0.0975      0.1185  \n",
      "          0   0.9929     0.0302        0.9118      1.0740 *\n",
      "          1   2.0231     0.0438        1.9053      2.1410 *\n",
      "          2   2.9552     0.0628        2.7863      3.1241 *\n",
      "---\n",
      "Signif. codes: `*' confidence band does not cover 0\n",
      "\n",
      "Control Group:  Never Treated,  Anticipation Periods:  0\n",
      "Estimation Method:  Doubly Robust\n"
     ]
    }
   ],
   "source": [
    "agg.es <- aggte(example_attgt, type = \"dynamic\")\n",
    "summary(agg.es)"
   ]
  },
  {
   "cell_type": "code",
   "execution_count": 11,
   "id": "f3984ccb",
   "metadata": {},
   "outputs": [
    {
     "data": {
      "image/png": "[encoded data removed]",
      "text/plain": [
       "plot without title"
      ]
     },
     "metadata": {
      "image/png": {
       "height": 420,
       "width": 420
      }
     },
     "output_type": "display_data"
    }
   ],
   "source": [
    "ggdid(agg.es)"
   ]
  },
  {
   "cell_type": "code",
   "execution_count": 12,
   "id": "4e8da0fc",
   "metadata": {},
   "outputs": [
    {
     "name": "stdout",
     "output_type": "stream",
     "text": [
      "\n",
      "Call:\n",
      "aggte(MP = example_attgt, type = \"group\")\n",
      "\n",
      "Reference: Callaway, Brantly and Pedro H.C. Sant'Anna.  \"Difference-in-Differences with Multiple Time Periods.\" Journal of Econometrics, Vol. 225, No. 2, pp. 200-230, 2021. <https://doi.org/10.1016/j.jeconom.2020.12.001>, <https://arxiv.org/abs/1803.09015> \n",
      "\n",
      "\n",
      "Overall summary of ATT's based on group/cohort aggregation:  \n",
      "   ATT    Std. Error     [ 95%  Conf. Int.]  \n",
      " 1.488        0.0305     1.4283      1.5477 *\n",
      "\n",
      "\n",
      "Group Effects:\n",
      " Group Estimate Std. Error [95% Simult.  Conf. Band]  \n",
      "     2   1.9545     0.0509        1.8264      2.0827 *\n",
      "     3   1.5835     0.0568        1.4405      1.7265 *\n",
      "     4   0.9523     0.0656        0.7870      1.1176 *\n",
      "---\n",
      "Signif. codes: `*' confidence band does not cover 0\n",
      "\n",
      "Control Group:  Never Treated,  Anticipation Periods:  0\n",
      "Estimation Method:  Doubly Robust\n"
     ]
    }
   ],
   "source": [
    "agg.gs <- aggte(example_attgt, type = \"group\")\n",
    "summary(agg.gs)"
   ]
  },
  {
   "cell_type": "code",
   "execution_count": 13,
   "id": "77db4617",
   "metadata": {},
   "outputs": [
    {
     "data": {
      "image/png": "[encoded data removed]",
      "text/plain": [
       "plot without title"
      ]
     },
     "metadata": {
      "image/png": {
       "height": 420,
       "width": 420
      }
     },
     "output_type": "display_data"
    }
   ],
   "source": [
    "ggdid(agg.gs)"
   ]
  },
  {
   "cell_type": "code",
   "execution_count": 14,
   "id": "5e0d5e0c",
   "metadata": {},
   "outputs": [
    {
     "name": "stdout",
     "output_type": "stream",
     "text": [
      "\n",
      "Call:\n",
      "aggte(MP = example_attgt, type = \"calendar\")\n",
      "\n",
      "Reference: Callaway, Brantly and Pedro H.C. Sant'Anna.  \"Difference-in-Differences with Multiple Time Periods.\" Journal of Econometrics, Vol. 225, No. 2, pp. 200-230, 2021. <https://doi.org/10.1016/j.jeconom.2020.12.001>, <https://arxiv.org/abs/1803.09015> \n",
      "\n",
      "\n",
      "Overall summary of ATT's based on calendar time aggregation:  \n",
      "    ATT    Std. Error     [ 95%  Conf. Int.]  \n",
      " 1.4808        0.0366      1.409      1.5526 *\n",
      "\n",
      "\n",
      "Time Effects:\n",
      " Time Estimate Std. Error [95% Simult.  Conf. Band]  \n",
      "    2   0.9209     0.0662        0.7645      1.0774 *\n",
      "    3   1.5491     0.0508        1.4291      1.6692 *\n",
      "    4   1.9724     0.0501        1.8538      2.0910 *\n",
      "---\n",
      "Signif. codes: `*' confidence band does not cover 0\n",
      "\n",
      "Control Group:  Never Treated,  Anticipation Periods:  0\n",
      "Estimation Method:  Doubly Robust\n"
     ]
    }
   ],
   "source": [
    "agg.ct <- aggte(example_attgt, type = \"calendar\")\n",
    "summary(agg.ct)"
   ]
  },
  {
   "cell_type": "code",
   "execution_count": 15,
   "id": "7119ec1b",
   "metadata": {},
   "outputs": [
    {
     "data": {
      "image/png": "[encoded data removed]",
      "text/plain": [
       "plot without title"
      ]
     },
     "metadata": {
      "image/png": {
       "height": 420,
       "width": 420
      }
     },
     "output_type": "display_data"
    }
   ],
   "source": [
    "ggdid(agg.ct)"
   ]
  },
  {
   "cell_type": "markdown",
   "id": "226bee68",
   "metadata": {},
   "source": [
    "# case 2 real world data"
   ]
  },
  {
   "cell_type": "code",
   "execution_count": 16,
   "id": "a04ac4d8",
   "metadata": {},
   "outputs": [],
   "source": [
    "data(mpdta)"
   ]
  },
  {
   "cell_type": "code",
   "execution_count": 18,
   "id": "f8ad1195",
   "metadata": {},
   "outputs": [],
   "source": [
    "# no covariates\n",
    "mw.attgt <- att_gt(yname = \"lemp\",\n",
    "                   gname = \"first.treat\",\n",
    "                   idname = \"countyreal\",\n",
    "                   tname = \"year\",\n",
    "                   xformla = ~1,\n",
    "                   data = mpdta,\n",
    "                   )"
   ]
  },
  {
   "cell_type": "code",
   "execution_count": 19,
   "id": "084b4a56",
   "metadata": {},
   "outputs": [
    {
     "name": "stdout",
     "output_type": "stream",
     "text": [
      "\n",
      "Call:\n",
      "att_gt(yname = \"lemp\", tname = \"year\", idname = \"countyreal\", \n",
      "    gname = \"first.treat\", xformla = ~1, data = mpdta)\n",
      "\n",
      "Reference: Callaway, Brantly and Pedro H.C. Sant'Anna.  \"Difference-in-Differences with Multiple Time Periods.\" Journal of Econometrics, Vol. 225, No. 2, pp. 200-230, 2021. <https://doi.org/10.1016/j.jeconom.2020.12.001>, <https://arxiv.org/abs/1803.09015> \n",
      "\n",
      "Group-Time Average Treatment Effects:\n",
      " Group Time ATT(g,t) Std. Error [95% Simult.  Conf. Band]  \n",
      "  2004 2004  -0.0105     0.0248       -0.0777      0.0567  \n",
      "  2004 2005  -0.0704     0.0319       -0.1566      0.0158  \n",
      "  2004 2006  -0.1373     0.0399       -0.2453     -0.0292 *\n",
      "  2004 2007  -0.1008     0.0365       -0.1995     -0.0021 *\n",
      "  2006 2004   0.0065     0.0225       -0.0543      0.0674  \n",
      "  2006 2005  -0.0028     0.0203       -0.0577      0.0522  \n",
      "  2006 2006  -0.0046     0.0179       -0.0529      0.0437  \n",
      "  2006 2007  -0.0412     0.0202       -0.0959      0.0135  \n",
      "  2007 2004   0.0305     0.0156       -0.0117      0.0727  \n",
      "  2007 2005  -0.0027     0.0160       -0.0460      0.0405  \n",
      "  2007 2006  -0.0311     0.0177       -0.0789      0.0167  \n",
      "  2007 2007  -0.0261     0.0172       -0.0725      0.0204  \n",
      "---\n",
      "Signif. codes: `*' confidence band does not cover 0\n",
      "\n",
      "P-value for pre-test of parallel trends assumption:  0.16812\n",
      "Control Group:  Never Treated,  Anticipation Periods:  0\n",
      "Estimation Method:  Doubly Robust\n"
     ]
    }
   ],
   "source": [
    "summary(mw.attgt)"
   ]
  },
  {
   "cell_type": "code",
   "execution_count": 20,
   "id": "9a75ea38",
   "metadata": {},
   "outputs": [],
   "source": [
    "# with covariates\n",
    "mw.attgt.X <- att_gt(yname = \"lemp\",\n",
    "                   gname = \"first.treat\",\n",
    "                   idname = \"countyreal\",\n",
    "                   tname = \"year\",\n",
    "                   xformla = ~lpop,\n",
    "                   data = mpdta,\n",
    "                   )"
   ]
  },
  {
   "cell_type": "code",
   "execution_count": 21,
   "id": "5b2b5c03",
   "metadata": {},
   "outputs": [
    {
     "name": "stdout",
     "output_type": "stream",
     "text": [
      "\n",
      "Call:\n",
      "att_gt(yname = \"lemp\", tname = \"year\", idname = \"countyreal\", \n",
      "    gname = \"first.treat\", xformla = ~lpop, data = mpdta)\n",
      "\n",
      "Reference: Callaway, Brantly and Pedro H.C. Sant'Anna.  \"Difference-in-Differences with Multiple Time Periods.\" Journal of Econometrics, Vol. 225, No. 2, pp. 200-230, 2021. <https://doi.org/10.1016/j.jeconom.2020.12.001>, <https://arxiv.org/abs/1803.09015> \n",
      "\n",
      "Group-Time Average Treatment Effects:\n",
      " Group Time ATT(g,t) Std. Error [95% Simult.  Conf. Band]  \n",
      "  2004 2004  -0.0145     0.0247       -0.0777      0.0486  \n",
      "  2004 2005  -0.0764     0.0315       -0.1570      0.0041  \n",
      "  2004 2006  -0.1404     0.0374       -0.2361     -0.0448 *\n",
      "  2004 2007  -0.1069     0.0315       -0.1875     -0.0263 *\n",
      "  2006 2004  -0.0005     0.0234       -0.0605      0.0596  \n",
      "  2006 2005  -0.0062     0.0187       -0.0542      0.0418  \n",
      "  2006 2006   0.0010     0.0205       -0.0514      0.0534  \n",
      "  2006 2007  -0.0413     0.0212       -0.0955      0.0129  \n",
      "  2007 2004   0.0267     0.0148       -0.0113      0.0648  \n",
      "  2007 2005  -0.0046     0.0150       -0.0429      0.0338  \n",
      "  2007 2006  -0.0284     0.0197       -0.0788      0.0219  \n",
      "  2007 2007  -0.0288     0.0169       -0.0721      0.0145  \n",
      "---\n",
      "Signif. codes: `*' confidence band does not cover 0\n",
      "\n",
      "P-value for pre-test of parallel trends assumption:  0.23267\n",
      "Control Group:  Never Treated,  Anticipation Periods:  0\n",
      "Estimation Method:  Doubly Robust\n"
     ]
    }
   ],
   "source": [
    "summary(mw.attgt.X)"
   ]
  },
  {
   "cell_type": "code",
   "execution_count": null,
   "id": "bbd06ce2",
   "metadata": {},
   "outputs": [],
   "source": []
  }
 ],
 "metadata": {
  "kernelspec": {
   "display_name": "R",
   "language": "R",
   "name": "ir"
  },
  "language_info": {
   "codemirror_mode": "r",
   "file_extension": ".r",
   "mimetype": "text/x-r-source",
   "name": "R",
   "pygments_lexer": "r",
   "version": "4.2.1"
  }
 },
 "nbformat": 4,
 "nbformat_minor": 5
}
