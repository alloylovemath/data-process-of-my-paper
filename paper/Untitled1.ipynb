{
 "cells": [
  {
   "cell_type": "code",
   "execution_count": 1,
   "id": "d301876b",
   "metadata": {},
   "outputs": [
    {
     "name": "stdout",
     "output_type": "stream",
     "text": [
      "[1] \"Hello, R\"\n"
     ]
    }
   ],
   "source": [
    "word <- \"Hello, R\"\n",
    "\n",
    "first_fun <- function(words){\n",
    "    print(word)\n",
    "}\n",
    "\n",
    "first_fun(word)"
   ]
  },
  {
   "cell_type": "code",
   "execution_count": 23,
   "id": "0b9f6c41",
   "metadata": {},
   "outputs": [
    {
     "name": "stderr",
     "output_type": "stream",
     "text": [
      "── \u001b[1mAttaching packages\u001b[22m ─────────────────────────────────────────────────────────────────────────────── tidyverse 1.3.2 ──\n",
      "\u001b[32m✔\u001b[39m \u001b[34mggplot2\u001b[39m 3.3.6     \u001b[32m✔\u001b[39m \u001b[34mpurrr  \u001b[39m 0.3.4\n",
      "\u001b[32m✔\u001b[39m \u001b[34mtibble \u001b[39m 3.1.8     \u001b[32m✔\u001b[39m \u001b[34mdplyr  \u001b[39m 1.0.9\n",
      "\u001b[32m✔\u001b[39m \u001b[34mtidyr  \u001b[39m 1.2.0     \u001b[32m✔\u001b[39m \u001b[34mstringr\u001b[39m 1.4.0\n",
      "\u001b[32m✔\u001b[39m \u001b[34mreadr  \u001b[39m 2.1.2     \u001b[32m✔\u001b[39m \u001b[34mforcats\u001b[39m 0.5.1\n",
      "── \u001b[1mConflicts\u001b[22m ────────────────────────────────────────────────────────────────────────────────── tidyverse_conflicts() ──\n",
      "\u001b[31m✖\u001b[39m \u001b[34mdplyr\u001b[39m::\u001b[32mfilter()\u001b[39m masks \u001b[34mstats\u001b[39m::filter()\n",
      "\u001b[31m✖\u001b[39m \u001b[34mdplyr\u001b[39m::\u001b[32mlag()\u001b[39m    masks \u001b[34mstats\u001b[39m::lag()\n"
     ]
    }
   ],
   "source": [
    "library(tidyverse)"
   ]
  },
  {
   "cell_type": "code",
   "execution_count": 31,
   "id": "23d59fc6",
   "metadata": {},
   "outputs": [
    {
     "name": "stderr",
     "output_type": "stream",
     "text": [
      "\u001b[1mRows: \u001b[22m\u001b[34m5574\u001b[39m \u001b[1mColumns: \u001b[22m\u001b[34m5\u001b[39m\n",
      "\u001b[36m──\u001b[39m \u001b[1mColumn specification\u001b[22m \u001b[36m────────────────────────────────────────────────────────────────────────────────────────────────\u001b[39m\n",
      "\u001b[1mDelimiter:\u001b[22m \",\"\n",
      "\u001b[32mdbl\u001b[39m (5): age, ndisease, linc, dmdu, hlthe\n",
      "\n",
      "\u001b[36mℹ\u001b[39m Use `spec()` to retrieve the full column specification for this data.\n",
      "\u001b[36mℹ\u001b[39m Specify the column types or set `show_col_types = FALSE` to quiet this message.\n"
     ]
    }
   ],
   "source": [
    "bi_health <- readr::read_csv('D:/paper/Rex/bivariate_health.csv')"
   ]
  },
  {
   "cell_type": "code",
   "execution_count": 32,
   "id": "1b4494e4",
   "metadata": {
    "scrolled": true
   },
   "outputs": [
    {
     "data": {
      "text/html": [
       "<table class=\"dataframe\">\n",
       "<caption>A tibble: 6 × 5</caption>\n",
       "<thead>\n",
       "\t<tr><th scope=col>age</th><th scope=col>ndisease</th><th scope=col>linc</th><th scope=col>dmdu</th><th scope=col>hlthe</th></tr>\n",
       "\t<tr><th scope=col>&lt;dbl&gt;</th><th scope=col>&lt;dbl&gt;</th><th scope=col>&lt;dbl&gt;</th><th scope=col>&lt;dbl&gt;</th><th scope=col>&lt;dbl&gt;</th></tr>\n",
       "</thead>\n",
       "<tbody>\n",
       "\t<tr><td>43.87748</td><td>13.73189</td><td>9.528776</td><td>1</td><td>0</td></tr>\n",
       "\t<tr><td>17.59138</td><td>13.73189</td><td>9.528776</td><td>0</td><td>1</td></tr>\n",
       "\t<tr><td>15.49966</td><td>13.73189</td><td>9.528776</td><td>1</td><td>1</td></tr>\n",
       "\t<tr><td>44.14305</td><td>13.73189</td><td>9.528776</td><td>1</td><td>0</td></tr>\n",
       "\t<tr><td>14.54962</td><td>13.73189</td><td>8.538699</td><td>0</td><td>0</td></tr>\n",
       "\t<tr><td>16.28268</td><td>13.00000</td><td>8.538699</td><td>0</td><td>0</td></tr>\n",
       "</tbody>\n",
       "</table>\n"
      ],
      "text/latex": [
       "A tibble: 6 × 5\n",
       "\\begin{tabular}{lllll}\n",
       " age & ndisease & linc & dmdu & hlthe\\\\\n",
       " <dbl> & <dbl> & <dbl> & <dbl> & <dbl>\\\\\n",
       "\\hline\n",
       "\t 43.87748 & 13.73189 & 9.528776 & 1 & 0\\\\\n",
       "\t 17.59138 & 13.73189 & 9.528776 & 0 & 1\\\\\n",
       "\t 15.49966 & 13.73189 & 9.528776 & 1 & 1\\\\\n",
       "\t 44.14305 & 13.73189 & 9.528776 & 1 & 0\\\\\n",
       "\t 14.54962 & 13.73189 & 8.538699 & 0 & 0\\\\\n",
       "\t 16.28268 & 13.00000 & 8.538699 & 0 & 0\\\\\n",
       "\\end{tabular}\n"
      ],
      "text/markdown": [
       "\n",
       "A tibble: 6 × 5\n",
       "\n",
       "| age &lt;dbl&gt; | ndisease &lt;dbl&gt; | linc &lt;dbl&gt; | dmdu &lt;dbl&gt; | hlthe &lt;dbl&gt; |\n",
       "|---|---|---|---|---|\n",
       "| 43.87748 | 13.73189 | 9.528776 | 1 | 0 |\n",
       "| 17.59138 | 13.73189 | 9.528776 | 0 | 1 |\n",
       "| 15.49966 | 13.73189 | 9.528776 | 1 | 1 |\n",
       "| 44.14305 | 13.73189 | 9.528776 | 1 | 0 |\n",
       "| 14.54962 | 13.73189 | 8.538699 | 0 | 0 |\n",
       "| 16.28268 | 13.00000 | 8.538699 | 0 | 0 |\n",
       "\n"
      ],
      "text/plain": [
       "  age      ndisease linc     dmdu hlthe\n",
       "1 43.87748 13.73189 9.528776 1    0    \n",
       "2 17.59138 13.73189 9.528776 0    1    \n",
       "3 15.49966 13.73189 9.528776 1    1    \n",
       "4 44.14305 13.73189 9.528776 1    0    \n",
       "5 14.54962 13.73189 8.538699 0    0    \n",
       "6 16.28268 13.00000 8.538699 0    0    "
      ]
     },
     "metadata": {},
     "output_type": "display_data"
    }
   ],
   "source": [
    "head(bi_health)"
   ]
  },
  {
   "cell_type": "code",
   "execution_count": 33,
   "id": "5d3f3953",
   "metadata": {},
   "outputs": [
    {
     "data": {
      "text/html": [
       "<style>\n",
       ".list-inline {list-style: none; margin:0; padding: 0}\n",
       ".list-inline>li {display: inline-block}\n",
       ".list-inline>li:not(:last-child)::after {content: \"\\00b7\"; padding: 0 .5ex}\n",
       "</style>\n",
       "<ol class=list-inline><li>'spec_tbl_df'</li><li>'tbl_df'</li><li>'tbl'</li><li>'data.frame'</li></ol>\n"
      ],
      "text/latex": [
       "\\begin{enumerate*}\n",
       "\\item 'spec\\_tbl\\_df'\n",
       "\\item 'tbl\\_df'\n",
       "\\item 'tbl'\n",
       "\\item 'data.frame'\n",
       "\\end{enumerate*}\n"
      ],
      "text/markdown": [
       "1. 'spec_tbl_df'\n",
       "2. 'tbl_df'\n",
       "3. 'tbl'\n",
       "4. 'data.frame'\n",
       "\n",
       "\n"
      ],
      "text/plain": [
       "[1] \"spec_tbl_df\" \"tbl_df\"      \"tbl\"         \"data.frame\" "
      ]
     },
     "metadata": {},
     "output_type": "display_data"
    }
   ],
   "source": [
    "class(bi_health)"
   ]
  },
  {
   "cell_type": "code",
   "execution_count": 34,
   "id": "7bf940b0",
   "metadata": {},
   "outputs": [
    {
     "ename": "ERROR",
     "evalue": "Error in library(zeligverse): there is no package called 'zeligverse'\n",
     "output_type": "error",
     "traceback": [
      "Error in library(zeligverse): there is no package called 'zeligverse'\nTraceback:\n",
      "1. library(zeligverse)"
     ]
    }
   ],
   "source": [
    "library(zeligverse)"
   ]
  },
  {
   "cell_type": "code",
   "execution_count": null,
   "id": "4b921055",
   "metadata": {},
   "outputs": [],
   "source": []
  }
 ],
 "metadata": {
  "kernelspec": {
   "display_name": "R",
   "language": "R",
   "name": "ir"
  },
  "language_info": {
   "codemirror_mode": "r",
   "file_extension": ".r",
   "mimetype": "text/x-r-source",
   "name": "R",
   "pygments_lexer": "r",
   "version": "4.2.1"
  }
 },
 "nbformat": 4,
 "nbformat_minor": 5
}
