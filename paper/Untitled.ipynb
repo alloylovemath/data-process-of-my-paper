{
 "cells": [
  {
   "cell_type": "markdown",
   "id": "d6cd6297",
   "metadata": {},
   "source": [
    "# Bivariate Probit"
   ]
  },
  {
   "cell_type": "markdown",
   "id": "b7bf03aa",
   "metadata": {},
   "source": [
    "* basic form:"
   ]
  },
  {
   "cell_type": "markdown",
   "id": "465b8848",
   "metadata": {},
   "source": [
    "$$\n",
    "y_{1}^{*}=\\mathbf{x}_{1}^{T}\\mathbf{\\beta}_{1}+\\varepsilon_{1},\\quad\n",
    "y_{1}=1(y_{1}^{*}>0),0\\ \\text{otherwise}\\\\\n",
    "y_{2}^{*}=\\mathbf{x}_{2}^{T}\\mathbf{\\beta}_{2}+\\varepsilon_{2},\\quad\n",
    "y_{2}=1(y_{2}^{*}>0),0\\ \\text{otherwise}\n",
    "$$\n",
    "\n",
    "$$\n",
    "\\left (\n",
    "\\begin{matrix}\n",
    "\\varepsilon_{1}\\\\\n",
    "\\varepsilon_{2}\n",
    "\\end{matrix}| \\mathbf{x}_{1},\\mathbf{x}_{2}\\right )\n",
    "\\sim N\n",
    "\\left [\n",
    "\\begin{pmatrix}\n",
    "0 \\\\\n",
    "0\n",
    "\\end{pmatrix},\n",
    "\\begin{pmatrix}\n",
    "1 & \\rho \\\\\n",
    "\\rho & 1\n",
    "\\end{pmatrix}\n",
    "\\right ]\n",
    "$$"
   ]
  },
  {
   "cell_type": "markdown",
   "id": "f720073a",
   "metadata": {},
   "source": [
    "$$\n",
    "q_{i1}=2y_{i1}-1\\\\\n",
    "q_{i2}=2y_{i2}-1\n",
    "$$\n",
    "so $q_{ij}=1,-1$ when $y_{ij}=1,0$"
   ]
  },
  {
   "cell_type": "markdown",
   "id": "7728002d",
   "metadata": {},
   "source": [
    "$$\n",
    "z_{ij}=\\mathbf{x}_{ij}^{T}\\mathbf{\\beta}_{j}\\quad\n",
    "w_{ij}=q_{ij}z_{ij}\\quad \\rho_{i^{*}}=q_{i1}q_{i2}\\rho\n",
    "$$"
   ]
  },
  {
   "cell_type": "markdown",
   "id": "e7affbb1",
   "metadata": {},
   "source": [
    "$$\n",
    "\\text{Pr}(Y_{1}=y_{i1},Y_{2}=y_{i2}|\\mathbf{x}_{1},\\mathbf{x}_{2})\n",
    "=\\Phi_{2}(w_{i1},w_{i2},\\rho_{i^{*}})\n",
    "$$"
   ]
  },
  {
   "cell_type": "markdown",
   "id": "3288fcaa",
   "metadata": {},
   "source": [
    "$$\n",
    "\\ln L = \\sum_{i=1}^{n} \\ln \\Phi_{2}(w_{i1},w_{i2},\\rho_{i^{*}})\n",
    "$$"
   ]
  },
  {
   "cell_type": "code",
   "execution_count": null,
   "id": "0ba2ec29",
   "metadata": {},
   "outputs": [],
   "source": []
  }
 ],
 "metadata": {
  "kernelspec": {
   "display_name": "Python 3 (ipykernel)",
   "language": "python",
   "name": "python3"
  },
  "language_info": {
   "codemirror_mode": {
    "name": "ipython",
    "version": 3
   },
   "file_extension": ".py",
   "mimetype": "text/x-python",
   "name": "python",
   "nbconvert_exporter": "python",
   "pygments_lexer": "ipython3",
   "version": "3.9.12"
  }
 },
 "nbformat": 4,
 "nbformat_minor": 5
}
