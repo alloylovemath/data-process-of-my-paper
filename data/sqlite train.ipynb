{
 "cells": [
  {
   "cell_type": "code",
   "execution_count": 1,
   "id": "aec74b78",
   "metadata": {},
   "outputs": [],
   "source": [
    "import os\n",
    "os.chdir(r'D:\\paper\\rowdata')\n",
    "\n",
    "import pandas as pd\n",
    "import numpy as np\n",
    "\n",
    "import sqlite3 as sq3"
   ]
  },
  {
   "cell_type": "markdown",
   "id": "6b282fcc",
   "metadata": {},
   "source": [
    "---\n",
    "\n",
    "# Basics"
   ]
  },
  {
   "cell_type": "markdown",
   "id": "6292ac2a",
   "metadata": {},
   "source": [
    "新建database:"
   ]
  },
  {
   "cell_type": "code",
   "execution_count": 2,
   "id": "226ed9e7",
   "metadata": {},
   "outputs": [],
   "source": [
    "sqliteConnection = sq3.connect('sql.db')"
   ]
  },
  {
   "cell_type": "markdown",
   "id": "8fd24af5",
   "metadata": {},
   "source": [
    "要在`sql.db`中执行命令，需要创建一个cursor:"
   ]
  },
  {
   "cell_type": "code",
   "execution_count": 3,
   "id": "7fd98abb",
   "metadata": {},
   "outputs": [],
   "source": [
    "cursor = sqliteConnection.cursor()"
   ]
  },
  {
   "cell_type": "markdown",
   "id": "4aaeb314",
   "metadata": {},
   "source": [
    "在python中以str表示SQL query，将其传入cursor.execute()执行  \n",
    "一次亦可以执行多条query--使用`.executemany()`来实现"
   ]
  },
  {
   "cell_type": "code",
   "execution_count": 4,
   "id": "67c72803",
   "metadata": {},
   "outputs": [],
   "source": [
    "query = 'SELECT sqlite_version();'"
   ]
  },
  {
   "cell_type": "code",
   "execution_count": 5,
   "id": "aeaf2238",
   "metadata": {},
   "outputs": [
    {
     "data": {
      "text/plain": [
       "<sqlite3.Cursor at 0x2d19d0cdb90>"
      ]
     },
     "execution_count": 5,
     "metadata": {},
     "output_type": "execute_result"
    }
   ],
   "source": [
    "cursor.execute(query)"
   ]
  },
  {
   "cell_type": "markdown",
   "id": "bab4a1d0",
   "metadata": {},
   "source": [
    "使用`cursor.fetchall()`则可以得到命令执行的结果"
   ]
  },
  {
   "cell_type": "code",
   "execution_count": 6,
   "id": "e4e1864b",
   "metadata": {},
   "outputs": [
    {
     "name": "stdout",
     "output_type": "stream",
     "text": [
      "SQLite Version is [('3.38.2',)].\n"
     ]
    }
   ],
   "source": [
    "result = cursor.fetchall()\n",
    "print(f'SQLite Version is {result}.')"
   ]
  },
  {
   "cell_type": "code",
   "execution_count": 7,
   "id": "c80b4f19",
   "metadata": {},
   "outputs": [],
   "source": [
    "cursor.close()\n",
    "sqliteConnection.close()"
   ]
  },
  {
   "cell_type": "markdown",
   "id": "57e10ef4",
   "metadata": {},
   "source": [
    "---\n",
    "\n",
    "# 创建Table"
   ]
  },
  {
   "cell_type": "code",
   "execution_count": 15,
   "id": "975cbba7",
   "metadata": {},
   "outputs": [
    {
     "data": {
      "text/html": [
       "<div>\n",
       "<style scoped>\n",
       "    .dataframe tbody tr th:only-of-type {\n",
       "        vertical-align: middle;\n",
       "    }\n",
       "\n",
       "    .dataframe tbody tr th {\n",
       "        vertical-align: top;\n",
       "    }\n",
       "\n",
       "    .dataframe thead th {\n",
       "        text-align: right;\n",
       "    }\n",
       "</style>\n",
       "<table border=\"1\" class=\"dataframe\">\n",
       "  <thead>\n",
       "    <tr style=\"text-align: right;\">\n",
       "      <th></th>\n",
       "      <th>Code</th>\n",
       "      <th>Industry_1</th>\n",
       "      <th>Industry_2</th>\n",
       "      <th>Estbdt</th>\n",
       "      <th>Listdt</th>\n",
       "      <th>Province</th>\n",
       "      <th>City</th>\n",
       "      <th>Jyxz</th>\n",
       "    </tr>\n",
       "  </thead>\n",
       "  <tbody>\n",
       "    <tr>\n",
       "      <th>0</th>\n",
       "      <td>000002</td>\n",
       "      <td>3</td>\n",
       "      <td>K70</td>\n",
       "      <td>1988-11-01</td>\n",
       "      <td>1991-01-29</td>\n",
       "      <td>440000</td>\n",
       "      <td>440300</td>\n",
       "      <td>P0301</td>\n",
       "    </tr>\n",
       "    <tr>\n",
       "      <th>1</th>\n",
       "      <td>000004</td>\n",
       "      <td>2</td>\n",
       "      <td>I65</td>\n",
       "      <td>1986-05-05</td>\n",
       "      <td>1991-01-14</td>\n",
       "      <td>440000</td>\n",
       "      <td>440300</td>\n",
       "      <td>P0306</td>\n",
       "    </tr>\n",
       "    <tr>\n",
       "      <th>2</th>\n",
       "      <td>000005</td>\n",
       "      <td>2</td>\n",
       "      <td>N77</td>\n",
       "      <td>1990-02-01</td>\n",
       "      <td>1990-12-10</td>\n",
       "      <td>440000</td>\n",
       "      <td>440300</td>\n",
       "      <td>P0303</td>\n",
       "    </tr>\n",
       "    <tr>\n",
       "      <th>3</th>\n",
       "      <td>000006</td>\n",
       "      <td>3</td>\n",
       "      <td>K70</td>\n",
       "      <td>1989-04-01</td>\n",
       "      <td>1992-04-27</td>\n",
       "      <td>440000</td>\n",
       "      <td>440300</td>\n",
       "      <td>P0301</td>\n",
       "    </tr>\n",
       "    <tr>\n",
       "      <th>4</th>\n",
       "      <td>000007</td>\n",
       "      <td>3</td>\n",
       "      <td>K70</td>\n",
       "      <td>1988-11-21</td>\n",
       "      <td>1992-04-13</td>\n",
       "      <td>440000</td>\n",
       "      <td>440300</td>\n",
       "      <td>P0306</td>\n",
       "    </tr>\n",
       "    <tr>\n",
       "      <th>...</th>\n",
       "      <td>...</td>\n",
       "      <td>...</td>\n",
       "      <td>...</td>\n",
       "      <td>...</td>\n",
       "      <td>...</td>\n",
       "      <td>...</td>\n",
       "      <td>...</td>\n",
       "      <td>...</td>\n",
       "    </tr>\n",
       "    <tr>\n",
       "      <th>2971</th>\n",
       "      <td>605580</td>\n",
       "      <td>5</td>\n",
       "      <td>D44</td>\n",
       "      <td>2007-03-05</td>\n",
       "      <td>2021-08-19</td>\n",
       "      <td>330000</td>\n",
       "      <td>330800</td>\n",
       "      <td>P0306</td>\n",
       "    </tr>\n",
       "    <tr>\n",
       "      <th>2972</th>\n",
       "      <td>605588</td>\n",
       "      <td>5</td>\n",
       "      <td>C39</td>\n",
       "      <td>2002-01-18</td>\n",
       "      <td>2021-08-12</td>\n",
       "      <td>320000</td>\n",
       "      <td>320100</td>\n",
       "      <td>P0306</td>\n",
       "    </tr>\n",
       "    <tr>\n",
       "      <th>2973</th>\n",
       "      <td>605589</td>\n",
       "      <td>5</td>\n",
       "      <td>C26</td>\n",
       "      <td>1994-01-24</td>\n",
       "      <td>2021-08-10</td>\n",
       "      <td>370000</td>\n",
       "      <td>370100</td>\n",
       "      <td>P0306</td>\n",
       "    </tr>\n",
       "    <tr>\n",
       "      <th>2974</th>\n",
       "      <td>605598</td>\n",
       "      <td>3</td>\n",
       "      <td>E48</td>\n",
       "      <td>2000-01-28</td>\n",
       "      <td>2021-09-17</td>\n",
       "      <td>310000</td>\n",
       "      <td>310000</td>\n",
       "      <td>P0306</td>\n",
       "    </tr>\n",
       "    <tr>\n",
       "      <th>2975</th>\n",
       "      <td>605599</td>\n",
       "      <td>6</td>\n",
       "      <td>F52</td>\n",
       "      <td>1994-12-09</td>\n",
       "      <td>2021-09-09</td>\n",
       "      <td>110000</td>\n",
       "      <td>110000</td>\n",
       "      <td>P0306</td>\n",
       "    </tr>\n",
       "  </tbody>\n",
       "</table>\n",
       "<p>2976 rows × 8 columns</p>\n",
       "</div>"
      ],
      "text/plain": [
       "        Code  Industry_1 Industry_2      Estbdt      Listdt  Province    City  \\\n",
       "0     000002           3        K70  1988-11-01  1991-01-29    440000  440300   \n",
       "1     000004           2        I65  1986-05-05  1991-01-14    440000  440300   \n",
       "2     000005           2        N77  1990-02-01  1990-12-10    440000  440300   \n",
       "3     000006           3        K70  1989-04-01  1992-04-27    440000  440300   \n",
       "4     000007           3        K70  1988-11-21  1992-04-13    440000  440300   \n",
       "...      ...         ...        ...         ...         ...       ...     ...   \n",
       "2971  605580           5        D44  2007-03-05  2021-08-19    330000  330800   \n",
       "2972  605588           5        C39  2002-01-18  2021-08-12    320000  320100   \n",
       "2973  605589           5        C26  1994-01-24  2021-08-10    370000  370100   \n",
       "2974  605598           3        E48  2000-01-28  2021-09-17    310000  310000   \n",
       "2975  605599           6        F52  1994-12-09  2021-09-09    110000  110000   \n",
       "\n",
       "       Jyxz  \n",
       "0     P0301  \n",
       "1     P0306  \n",
       "2     P0303  \n",
       "3     P0301  \n",
       "4     P0306  \n",
       "...     ...  \n",
       "2971  P0306  \n",
       "2972  P0306  \n",
       "2973  P0306  \n",
       "2974  P0306  \n",
       "2975  P0306  \n",
       "\n",
       "[2976 rows x 8 columns]"
      ]
     },
     "execution_count": 15,
     "metadata": {},
     "output_type": "execute_result"
    }
   ],
   "source": [
    "os.chdir(r'D:/paper/rowdata/basics')\n",
    "\n",
    "basics = pd.read_csv('basics_clean.csv', dtype={'Code':str})\n",
    "basics"
   ]
  },
  {
   "cell_type": "code",
   "execution_count": 37,
   "id": "8be980a6",
   "metadata": {},
   "outputs": [],
   "source": [
    "for i in range(8):\n",
    "    basics.iloc[:, i] = basics.iloc[:, i].astype(str)"
   ]
  },
  {
   "cell_type": "code",
   "execution_count": 38,
   "id": "60954fcf",
   "metadata": {},
   "outputs": [],
   "source": [
    "os.chdir(r'D:/paper/rowdata')\n",
    "sqlCon = sq3.connect('sql.db')\n",
    "cursor = sqlCon.cursor()\n",
    "\n",
    "query = '''\n",
    "CREATE TABLE test(\n",
    "Code TEXT, Industry_1 TEXT, Industry_2 TEXT,\n",
    "Estbdt TEXT, Listdt TEXT, Province TEXT,\n",
    "City TEXT, Jyxz TEXT, PRIMARY KEY(Code)\n",
    ");\n",
    "'''\n",
    "\n",
    "cursor.execute(query)\n",
    "\n",
    "sqlCon.commit()"
   ]
  },
  {
   "cell_type": "code",
   "execution_count": 39,
   "id": "38fa6518",
   "metadata": {},
   "outputs": [],
   "source": [
    "n = len(basics['Code'])"
   ]
  },
  {
   "cell_type": "code",
   "execution_count": 40,
   "id": "0a371856",
   "metadata": {},
   "outputs": [],
   "source": [
    "data = [tuple(basics.iloc[i,:]) for i in range(n)]"
   ]
  },
  {
   "cell_type": "code",
   "execution_count": 41,
   "id": "99f6013e",
   "metadata": {},
   "outputs": [],
   "source": [
    "stmt = '''\n",
    "INSERT INTO test VALUES(?, ?, ?, ?, ?, ?, ?, ?)\n",
    "'''\n",
    "\n",
    "cursor.executemany(stmt, data)\n",
    "\n",
    "sqlCon.commit()"
   ]
  },
  {
   "cell_type": "code",
   "execution_count": 42,
   "id": "70132132",
   "metadata": {},
   "outputs": [],
   "source": [
    "cursor.close()\n",
    "sqliteConnection.close()"
   ]
  },
  {
   "cell_type": "markdown",
   "id": "1239065d",
   "metadata": {},
   "source": [
    "好的，开始工作"
   ]
  },
  {
   "cell_type": "code",
   "execution_count": null,
   "id": "f411628d",
   "metadata": {},
   "outputs": [],
   "source": []
  }
 ],
 "metadata": {
  "kernelspec": {
   "display_name": "Python 3 (ipykernel)",
   "language": "python",
   "name": "python3"
  },
  "language_info": {
   "codemirror_mode": {
    "name": "ipython",
    "version": 3
   },
   "file_extension": ".py",
   "mimetype": "text/x-python",
   "name": "python",
   "nbconvert_exporter": "python",
   "pygments_lexer": "ipython3",
   "version": "3.9.12"
  }
 },
 "nbformat": 4,
 "nbformat_minor": 5
}
