{
 "cells": [
  {
   "cell_type": "markdown",
   "id": "7e2536c9",
   "metadata": {},
   "source": [
    "# 数据收集"
   ]
  },
  {
   "cell_type": "markdown",
   "id": "29bb39b2",
   "metadata": {},
   "source": [
    "## 融资融券标的"
   ]
  },
  {
   "cell_type": "code",
   "execution_count": 1,
   "id": "ec84ab27",
   "metadata": {},
   "outputs": [],
   "source": [
    "import os\n",
    "os.chdir(r'D:\\paper\\rowdata')\n",
    "\n",
    "import pandas as pd\n",
    "import numpy as np"
   ]
  },
  {
   "cell_type": "code",
   "execution_count": 2,
   "id": "760220ab",
   "metadata": {},
   "outputs": [],
   "source": [
    "rzrq = pd.read_csv('rzrq.csv', parse_dates=[2, 3], infer_datetime_format=True,\n",
    "                   dtype={'标的证券代码_UdlSecuCd':str}, encoding='utf-8').iloc[:, 0:5]\n",
    "\n",
    "rzrq = rzrq.rename(columns = {\"标的证券代码_UdlSecuCd\": \"Code\", \"标的类别_UdlCtgy\": \"Type\",\n",
    "                              \"入选日期_InDt\": \"Time_in\", \"剔除日期_OutDt\": \"Time_out\",\n",
    "                              \"标的标志_UdlFlg\": \"Biaodi\", \"变更原因_ChgRea\": \"Reason\"})"
   ]
  },
  {
   "cell_type": "markdown",
   "id": "7c8f9880",
   "metadata": {},
   "source": [
    "---\n",
    "\n",
    "去重"
   ]
  },
  {
   "cell_type": "code",
   "execution_count": 3,
   "id": "dedb7d61",
   "metadata": {},
   "outputs": [],
   "source": [
    "rzrq = rzrq.drop_duplicates([\"Code\", \"Time_in\", \"Time_out\", \"Biaodi\"])"
   ]
  },
  {
   "cell_type": "markdown",
   "id": "e28abf9a",
   "metadata": {},
   "source": [
    "---"
   ]
  },
  {
   "cell_type": "code",
   "execution_count": 4,
   "id": "5d222b03",
   "metadata": {},
   "outputs": [
    {
     "data": {
      "text/html": [
       "<div>\n",
       "<style scoped>\n",
       "    .dataframe tbody tr th:only-of-type {\n",
       "        vertical-align: middle;\n",
       "    }\n",
       "\n",
       "    .dataframe tbody tr th {\n",
       "        vertical-align: top;\n",
       "    }\n",
       "\n",
       "    .dataframe thead th {\n",
       "        text-align: right;\n",
       "    }\n",
       "</style>\n",
       "<table border=\"1\" class=\"dataframe\">\n",
       "  <thead>\n",
       "    <tr style=\"text-align: right;\">\n",
       "      <th></th>\n",
       "      <th>Mtdate</th>\n",
       "      <th>Stockcode</th>\n",
       "      <th>Financeavailable</th>\n",
       "      <th>Shortavailable</th>\n",
       "    </tr>\n",
       "  </thead>\n",
       "  <tbody>\n",
       "    <tr>\n",
       "      <th>0</th>\n",
       "      <td>2010-03-29</td>\n",
       "      <td>000002</td>\n",
       "      <td>N</td>\n",
       "      <td>N</td>\n",
       "    </tr>\n",
       "    <tr>\n",
       "      <th>1</th>\n",
       "      <td>2010-03-30</td>\n",
       "      <td>000002</td>\n",
       "      <td>N</td>\n",
       "      <td>N</td>\n",
       "    </tr>\n",
       "    <tr>\n",
       "      <th>2</th>\n",
       "      <td>2010-03-31</td>\n",
       "      <td>000002</td>\n",
       "      <td>Y</td>\n",
       "      <td>Y</td>\n",
       "    </tr>\n",
       "    <tr>\n",
       "      <th>3</th>\n",
       "      <td>2010-04-01</td>\n",
       "      <td>000002</td>\n",
       "      <td>Y</td>\n",
       "      <td>Y</td>\n",
       "    </tr>\n",
       "    <tr>\n",
       "      <th>4</th>\n",
       "      <td>2010-04-02</td>\n",
       "      <td>000002</td>\n",
       "      <td>Y</td>\n",
       "      <td>Y</td>\n",
       "    </tr>\n",
       "    <tr>\n",
       "      <th>...</th>\n",
       "      <td>...</td>\n",
       "      <td>...</td>\n",
       "      <td>...</td>\n",
       "      <td>...</td>\n",
       "    </tr>\n",
       "    <tr>\n",
       "      <th>69984</th>\n",
       "      <td>2021-12-27</td>\n",
       "      <td>603993</td>\n",
       "      <td>Y</td>\n",
       "      <td>Y</td>\n",
       "    </tr>\n",
       "    <tr>\n",
       "      <th>69985</th>\n",
       "      <td>2021-12-28</td>\n",
       "      <td>603993</td>\n",
       "      <td>Y</td>\n",
       "      <td>Y</td>\n",
       "    </tr>\n",
       "    <tr>\n",
       "      <th>69986</th>\n",
       "      <td>2021-12-29</td>\n",
       "      <td>603993</td>\n",
       "      <td>Y</td>\n",
       "      <td>Y</td>\n",
       "    </tr>\n",
       "    <tr>\n",
       "      <th>69987</th>\n",
       "      <td>2021-12-30</td>\n",
       "      <td>603993</td>\n",
       "      <td>Y</td>\n",
       "      <td>Y</td>\n",
       "    </tr>\n",
       "    <tr>\n",
       "      <th>69988</th>\n",
       "      <td>2021-12-31</td>\n",
       "      <td>603993</td>\n",
       "      <td>Y</td>\n",
       "      <td>Y</td>\n",
       "    </tr>\n",
       "  </tbody>\n",
       "</table>\n",
       "<p>1987905 rows × 4 columns</p>\n",
       "</div>"
      ],
      "text/plain": [
       "          Mtdate Stockcode Financeavailable Shortavailable\n",
       "0     2010-03-29    000002                N              N\n",
       "1     2010-03-30    000002                N              N\n",
       "2     2010-03-31    000002                Y              Y\n",
       "3     2010-04-01    000002                Y              Y\n",
       "4     2010-04-02    000002                Y              Y\n",
       "...          ...       ...              ...            ...\n",
       "69984 2021-12-27    603993                Y              Y\n",
       "69985 2021-12-28    603993                Y              Y\n",
       "69986 2021-12-29    603993                Y              Y\n",
       "69987 2021-12-30    603993                Y              Y\n",
       "69988 2021-12-31    603993                Y              Y\n",
       "\n",
       "[1987905 rows x 4 columns]"
      ]
     },
     "execution_count": 4,
     "metadata": {},
     "output_type": "execute_result"
    }
   ],
   "source": [
    "rzrq_2013 = pd.read_csv('rzrq_2013.csv', parse_dates=[1], infer_datetime_format=True,\n",
    "                       dtype={'Stockcode': str}).iloc[:, [1,2,4,5]]\n",
    "rzrq_2017 = pd.read_csv('rzrq_2017.csv', parse_dates=[1], infer_datetime_format=True,\n",
    "                       dtype={'Stockcode': str}).iloc[:, [1,2,4,5]]\n",
    "rzrq_2021_1 = pd.read_csv('rzrq_2021_1.csv', parse_dates=[1], infer_datetime_format=True,\n",
    "                       dtype={'Stockcode': str}).iloc[:, [1,2,4,5]]\n",
    "rzrq_2021_2 = pd.read_csv('rzrq_2021_2.csv', parse_dates=[1], infer_datetime_format=True,\n",
    "                       dtype={'Stockcode': str}).iloc[:, [1,2,4,5]]\n",
    "rzrq_jy = pd.concat([rzrq_2013, rzrq_2017, rzrq_2021_1, rzrq_2021_2])\n",
    "rzrq_jy"
   ]
  },
  {
   "cell_type": "markdown",
   "id": "be88b181",
   "metadata": {},
   "source": [
    "1,987,905条数据，excel早卡死了，还得是python."
   ]
  },
  {
   "cell_type": "code",
   "execution_count": 48,
   "id": "fc1112e2",
   "metadata": {},
   "outputs": [
    {
     "data": {
      "text/plain": [
       "'2021-12-31'"
      ]
     },
     "execution_count": 48,
     "metadata": {},
     "output_type": "execute_result"
    }
   ],
   "source": [
    "ff = rzrq_jy[rzrq_jy[\"Stockcode\"]=='000002']\n",
    "str(ff[ff[\"Mtdate\"]>='2021-10'][\"Mtdate\"].iloc[-1])[:10]"
   ]
  },
  {
   "cell_type": "markdown",
   "id": "6413d533",
   "metadata": {},
   "source": [
    "---"
   ]
  },
  {
   "cell_type": "markdown",
   "id": "42f1edb7",
   "metadata": {},
   "source": [
    "接下来挑出真正的剔除数据  \n",
    "上面来自锐思的数据中，有些股票曾今被剔除过，然而并非是“真正”被剔除出融资融券标的  \n",
    "其中有些股票是触发了融资融券交易的暂停机制，这些数据也被当作了剔除\n",
    "\n",
    "\n",
    "要识别出这样的假“剔除”，笔者的思路如下：  \n",
    "我们先挑选出所有的“被剔除”的记录，而后  \n",
    "1. 先检查在2021-12-31其是否还是融资融券标的，如果是的话则视其为为“假”剔除数据，为稳妥起见，再查看2021-11-11、2021-10-11其是否是标的  \n",
    "2. 还有一种可能，证券曾经被剔除过标的名单，但在之后的扩容中，其又被纳入了标的，这种情况，笔者认为，不妨认为其也是一种暂停\n",
    "3. 对于“真”剔除，我们返回其被剔除的时间"
   ]
  },
  {
   "cell_type": "markdown",
   "id": "fd05bde5",
   "metadata": {},
   "source": [
    "得到被“剔除”过的证券的名单："
   ]
  },
  {
   "cell_type": "code",
   "execution_count": 5,
   "id": "73683a05",
   "metadata": {},
   "outputs": [],
   "source": [
    "get_out_df = rzrq[rzrq[\"Time_out\"].notnull()]\n",
    "get_out = set(get_out_df['Code'])"
   ]
  },
  {
   "cell_type": "code",
   "execution_count": 6,
   "id": "33d5d735",
   "metadata": {},
   "outputs": [],
   "source": [
    "real_get_out = []\n",
    "\n",
    "for item in get_out:\n",
    "    q = rzrq_jy[rzrq_jy[\"Stockcode\"]==item]\n",
    "    da = str(q[\"Mtdate\"].iloc[-1])[:10]\n",
    "\n",
    "    if da == \"2021-12-31\":\n",
    "        continue\n",
    "    else:\n",
    "        bi = q[\"Financeavailable\"].iloc[-1]\n",
    "        real_get_out.append((item, da))"
   ]
  },
  {
   "cell_type": "code",
   "execution_count": 7,
   "id": "66d24b39",
   "metadata": {},
   "outputs": [
    {
     "data": {
      "text/plain": [
       "[('002426', '2020-04-29'),\n",
       " ('002650', '2020-06-12'),\n",
       " ('600470', '2020-04-30'),\n",
       " ('002501', '2019-01-11'),\n",
       " ('600179', '2016-03-10'),\n",
       " ('600381', '2013-03-05'),\n",
       " ('600226', '2020-06-30'),\n",
       " ('000788', '2017-07-07'),\n",
       " ('600198', '2021-04-29'),\n",
       " ('600403', '2021-04-27'),\n",
       " ('002524', '2017-07-07'),\n",
       " ('600225', '2020-04-23'),\n",
       " ('600186', '2019-04-26'),\n",
       " ('002321', '2021-04-29'),\n",
       " ('600815', '2017-04-28'),\n",
       " ('002716', '2019-10-08'),\n",
       " ('600311', '2015-11-30'),\n",
       " ('600228', '2014-04-30'),\n",
       " ('600526', '2019-04-19'),\n",
       " ('000410', '2017-03-17'),\n",
       " ('600518', '2019-05-20'),\n",
       " ('601258', '2019-09-06'),\n",
       " ('600112', '2017-04-26'),\n",
       " ('000626', '2018-10-12'),\n",
       " ('000897', '2018-10-12'),\n",
       " ('600515', '2021-02-18'),\n",
       " ('002432', '2014-09-19'),\n",
       " ('002122', '2013-01-30'),\n",
       " ('002358', '2021-04-29'),\n",
       " ('600119', '2019-04-30'),\n",
       " ('600193', '2018-05-02'),\n",
       " ('002490', '2017-03-17'),\n",
       " ('600078', '2021-04-30'),\n",
       " ('002571', '2017-04-24'),\n",
       " ('600301', '2013-05-02'),\n",
       " ('603188', '2018-08-13'),\n",
       " ('600807', '2018-05-02'),\n",
       " ('000737', '2014-09-19'),\n",
       " ('002168', '2021-03-02'),\n",
       " ('000536', '2020-04-28'),\n",
       " ('000980', '2020-06-23'),\n",
       " ('600149', '2017-04-27'),\n",
       " ('002052', '2020-04-30'),\n",
       " ('600289', '2017-12-26'),\n",
       " ('000572', '2018-10-12'),\n",
       " ('002312', '2017-03-17'),\n",
       " ('600530', '2020-04-29'),\n",
       " ('002280', '2020-06-24'),\n",
       " ('000422', '2017-10-27'),\n",
       " ('601113', '2019-10-08'),\n",
       " ('002640', '2021-05-06'),\n",
       " ('000927', '2020-04-09'),\n",
       " ('600568', '2020-06-01'),\n",
       " ('603032', '2021-04-27'),\n",
       " ('000982', '2014-09-19'),\n",
       " ('000816', '2017-10-27'),\n",
       " ('601020', '2021-04-29'),\n",
       " ('600844', '2017-05-02'),\n",
       " ('600382', '2021-04-30'),\n",
       " ('600644', '2015-03-30'),\n",
       " ('000697', '2017-10-27'),\n",
       " ('600416', '2020-03-31'),\n",
       " ('600354', '2020-03-20'),\n",
       " ('002190', '2018-10-12'),\n",
       " ('000792', '2018-10-12'),\n",
       " ('000868', '2018-10-12'),\n",
       " ('000962', '2016-04-19'),\n",
       " ('600260', '2021-08-16'),\n",
       " ('002210', '2019-04-12'),\n",
       " ('002642', '2019-04-12'),\n",
       " ('600595', '2019-04-30'),\n",
       " ('600173', '2013-01-30'),\n",
       " ('002470', '2020-06-30'),\n",
       " ('000616', '2021-04-30'),\n",
       " ('600191', '2021-04-29'),\n",
       " ('600651', '2020-04-30'),\n",
       " ('000408', '2020-04-30'),\n",
       " ('600408', '2015-04-30'),\n",
       " ('600696', '2017-03-28'),\n",
       " ('600877', '2017-05-02'),\n",
       " ('600638', '2013-01-30'),\n",
       " ('000727', '2020-04-15'),\n",
       " ('600122', '2020-04-29'),\n",
       " ('600290', '2019-12-25'),\n",
       " ('600766', '2021-04-23'),\n",
       " ('600239', '2021-04-27'),\n",
       " ('002006', '2014-04-28'),\n",
       " ('600321', '2018-04-11'),\n",
       " ('600221', '2021-02-18'),\n",
       " ('000802', '2021-04-30'),\n",
       " ('600083', '2020-04-28'),\n",
       " ('002219', '2017-03-17'),\n",
       " ('600387', '2021-04-30'),\n",
       " ('000525', '2021-04-30'),\n",
       " ('002005', '2019-04-12'),\n",
       " ('600654', '2017-05-02'),\n",
       " ('002069', '2016-05-03'),\n",
       " ('600601', '2021-04-29'),\n",
       " ('002681', '2020-04-30'),\n",
       " ('600300', '2021-04-26')]"
      ]
     },
     "execution_count": 7,
     "metadata": {},
     "output_type": "execute_result"
    }
   ],
   "source": [
    "real_get_out"
   ]
  },
  {
   "cell_type": "markdown",
   "id": "fa9b6783",
   "metadata": {},
   "source": [
    "草，终于解决了。。。"
   ]
  },
  {
   "cell_type": "code",
   "execution_count": 8,
   "id": "8101e2a5",
   "metadata": {},
   "outputs": [],
   "source": [
    "code_ls = []\n",
    "with open(\"Code.txt\",'r') as code:\n",
    "    for line in code:\n",
    "        code_ls.append(line[:-1])"
   ]
  },
  {
   "cell_type": "code",
   "execution_count": 9,
   "id": "ed66bd95",
   "metadata": {},
   "outputs": [],
   "source": [
    "df = pd.DataFrame({\"Code\": code_ls})\n",
    "\n",
    "num_code = len(code_ls)\n",
    "\n",
    "df[\"Treated\"] = [0 for i in range(num_code)]\n",
    "df[\"Tc_t\"] = [0 for i in range(num_code)]\n",
    "df[\"Time\"] = [0 for i in range(num_code)]\n",
    "df[\"Time_a\"] =[0 for i in range(num_code)]"
   ]
  },
  {
   "cell_type": "code",
   "execution_count": 10,
   "id": "aa8df09d",
   "metadata": {},
   "outputs": [
    {
     "data": {
      "text/html": [
       "<div>\n",
       "<style scoped>\n",
       "    .dataframe tbody tr th:only-of-type {\n",
       "        vertical-align: middle;\n",
       "    }\n",
       "\n",
       "    .dataframe tbody tr th {\n",
       "        vertical-align: top;\n",
       "    }\n",
       "\n",
       "    .dataframe thead th {\n",
       "        text-align: right;\n",
       "    }\n",
       "</style>\n",
       "<table border=\"1\" class=\"dataframe\">\n",
       "  <thead>\n",
       "    <tr style=\"text-align: right;\">\n",
       "      <th></th>\n",
       "      <th>Code</th>\n",
       "      <th>Treated</th>\n",
       "      <th>Tc_t</th>\n",
       "      <th>Time</th>\n",
       "      <th>Time_a</th>\n",
       "    </tr>\n",
       "  </thead>\n",
       "  <tbody>\n",
       "    <tr>\n",
       "      <th>0</th>\n",
       "      <td>000002</td>\n",
       "      <td>1</td>\n",
       "      <td>0</td>\n",
       "      <td>2010-03-29</td>\n",
       "      <td>NaN</td>\n",
       "    </tr>\n",
       "    <tr>\n",
       "      <th>1</th>\n",
       "      <td>000004</td>\n",
       "      <td>0</td>\n",
       "      <td>0</td>\n",
       "      <td>NaN</td>\n",
       "      <td>NaN</td>\n",
       "    </tr>\n",
       "    <tr>\n",
       "      <th>2</th>\n",
       "      <td>000005</td>\n",
       "      <td>0</td>\n",
       "      <td>0</td>\n",
       "      <td>NaN</td>\n",
       "      <td>NaN</td>\n",
       "    </tr>\n",
       "    <tr>\n",
       "      <th>3</th>\n",
       "      <td>000006</td>\n",
       "      <td>1</td>\n",
       "      <td>0</td>\n",
       "      <td>2013-01-31</td>\n",
       "      <td>NaN</td>\n",
       "    </tr>\n",
       "    <tr>\n",
       "      <th>4</th>\n",
       "      <td>000007</td>\n",
       "      <td>0</td>\n",
       "      <td>0</td>\n",
       "      <td>NaN</td>\n",
       "      <td>NaN</td>\n",
       "    </tr>\n",
       "    <tr>\n",
       "      <th>...</th>\n",
       "      <td>...</td>\n",
       "      <td>...</td>\n",
       "      <td>...</td>\n",
       "      <td>...</td>\n",
       "      <td>...</td>\n",
       "    </tr>\n",
       "    <tr>\n",
       "      <th>2971</th>\n",
       "      <td>605580</td>\n",
       "      <td>0</td>\n",
       "      <td>0</td>\n",
       "      <td>NaN</td>\n",
       "      <td>NaN</td>\n",
       "    </tr>\n",
       "    <tr>\n",
       "      <th>2972</th>\n",
       "      <td>605588</td>\n",
       "      <td>0</td>\n",
       "      <td>0</td>\n",
       "      <td>NaN</td>\n",
       "      <td>NaN</td>\n",
       "    </tr>\n",
       "    <tr>\n",
       "      <th>2973</th>\n",
       "      <td>605589</td>\n",
       "      <td>0</td>\n",
       "      <td>0</td>\n",
       "      <td>NaN</td>\n",
       "      <td>NaN</td>\n",
       "    </tr>\n",
       "    <tr>\n",
       "      <th>2974</th>\n",
       "      <td>605598</td>\n",
       "      <td>0</td>\n",
       "      <td>0</td>\n",
       "      <td>NaN</td>\n",
       "      <td>NaN</td>\n",
       "    </tr>\n",
       "    <tr>\n",
       "      <th>2975</th>\n",
       "      <td>605599</td>\n",
       "      <td>0</td>\n",
       "      <td>0</td>\n",
       "      <td>NaN</td>\n",
       "      <td>NaN</td>\n",
       "    </tr>\n",
       "  </tbody>\n",
       "</table>\n",
       "<p>2976 rows × 5 columns</p>\n",
       "</div>"
      ],
      "text/plain": [
       "        Code  Treated  Tc_t        Time Time_a\n",
       "0     000002        1     0  2010-03-29    NaN\n",
       "1     000004        0     0         NaN    NaN\n",
       "2     000005        0     0         NaN    NaN\n",
       "3     000006        1     0  2013-01-31    NaN\n",
       "4     000007        0     0         NaN    NaN\n",
       "...      ...      ...   ...         ...    ...\n",
       "2971  605580        0     0         NaN    NaN\n",
       "2972  605588        0     0         NaN    NaN\n",
       "2973  605589        0     0         NaN    NaN\n",
       "2974  605598        0     0         NaN    NaN\n",
       "2975  605599        0     0         NaN    NaN\n",
       "\n",
       "[2976 rows x 5 columns]"
      ]
     },
     "execution_count": 10,
     "metadata": {},
     "output_type": "execute_result"
    }
   ],
   "source": [
    "treated = set(rzrq[\"Code\"])\n",
    "treated_ls = [1 if i in treated else 0 for i in df[\"Code\"]]\n",
    "df[\"Treated\"] = treated_ls\n",
    "\n",
    "real_get_out_code = [i[0] for i in real_get_out]\n",
    "real_get_out_dict = {i[0]:i[1] for i in real_get_out}\n",
    "tc_t = [1 if  i in real_get_out_code else 0 for i in code_ls]\n",
    "df[\"Tc_t\"] = tc_t\n",
    "\n",
    "Time_a = [real_get_out_dict[i] if  i in real_get_out_code else np.nan for i in code_ls]\n",
    "df[\"Time_a\"] = Time_a\n",
    "\n",
    "Time = [str(rzrq[rzrq[\"Code\"]==i][\"Time_in\"].iloc[0])[:10] if  i in treated else np.nan for i in code_ls]\n",
    "df[\"Time\"] = Time\n",
    "\n",
    "df"
   ]
  },
  {
   "cell_type": "markdown",
   "id": "573db8d5",
   "metadata": {},
   "source": [
    "舒服了，草  \n",
    "将得到的数据保存："
   ]
  },
  {
   "cell_type": "code",
   "execution_count": 11,
   "id": "cf5a914e",
   "metadata": {},
   "outputs": [],
   "source": [
    "df.to_csv('rzrq_clean.csv', index=False)"
   ]
  },
  {
   "cell_type": "code",
   "execution_count": null,
   "id": "3df8776a",
   "metadata": {},
   "outputs": [],
   "source": []
  }
 ],
 "metadata": {
  "kernelspec": {
   "display_name": "Python 3 (ipykernel)",
   "language": "python",
   "name": "python3"
  },
  "language_info": {
   "codemirror_mode": {
    "name": "ipython",
    "version": 3
   },
   "file_extension": ".py",
   "mimetype": "text/x-python",
   "name": "python",
   "nbconvert_exporter": "python",
   "pygments_lexer": "ipython3",
   "version": "3.9.12"
  }
 },
 "nbformat": 4,
 "nbformat_minor": 5
}
